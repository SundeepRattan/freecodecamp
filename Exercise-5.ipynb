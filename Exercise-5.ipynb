{
 "cells": [
  {
   "cell_type": "markdown",
   "id": "d4836915",
   "metadata": {},
   "source": [
    "Implement the guess game"
   ]
  },
  {
   "cell_type": "code",
   "execution_count": 159,
   "id": "aa2184ef",
   "metadata": {},
   "outputs": [],
   "source": [
    "from typing import TypedDict, List, Optional\n",
    "from langgraph.graph import StateGraph, START, END\n",
    "from IPython.display import Image, display\n",
    "import random"
   ]
  },
  {
   "cell_type": "code",
   "execution_count": 160,
   "id": "b127727b",
   "metadata": {},
   "outputs": [],
   "source": [
    "class AgentState(TypedDict):\n",
    "    guess: int\n",
    "    guesses: List[int]\n",
    "    player_name: str\n",
    "    lower_bound: int\n",
    "    upper_bound: int\n",
    "    attempts: int\n",
    "    is_guessed: int"
   ]
  },
  {
   "cell_type": "code",
   "execution_count": 161,
   "id": "0a83ed1a",
   "metadata": {},
   "outputs": [],
   "source": [
    "def setup(state: AgentState) -> AgentState:\n",
    "    \"\"\" This state agent node initializes the initial values for the guess game \"\"\"\n",
    "\n",
    "    state['is_guessed'] = 0\n",
    "    print(\"Number to guess: \", state['guess'])\n",
    "    state['player_name'] = f\"Welcome, {state['player_name']}! The game has begun. I'm thinking of a number between 1 and 20.\"\n",
    "    print(state['player_name'])\n",
    "    return state\n",
    "\n",
    "def guess_node(state: AgentState) -> AgentState:\n",
    "    \"\"\" This state agent node guesses the right number \"\"\"\n",
    "\n",
    "    num = random.randint(state['lower_bound'], state['upper_bound'])\n",
    "    state['attempts']+=1\n",
    "    print(\"Guessed number: \", num, \"Attempts: \", state['attempts'], \"LowerBound: \", state['lower_bound'], \n",
    "          \"UpperBound: \", state['upper_bound'])\n",
    "    if num == state['guess']:\n",
    "        state['is_guessed'] = 1\n",
    "    else:\n",
    "        state['lower_bound'] = state['guess'] - 10\n",
    "        state['upper_bound'] = state['guess'] + 10\n",
    "    return state\n",
    "\n",
    "def hint_router(state: AgentState) -> Optional[str]:\n",
    "    \"\"\" This state agent node hints the guess node what number to guess \"\"\"\n",
    "\n",
    "    if state['is_guessed']:\n",
    "        print(\"Corrrect\")\n",
    "        return \"exit\"\n",
    "    elif state['attempts'] > 7:\n",
    "        print(\"Max attempts reached, exiting now\")\n",
    "        return \"exit\"\n",
    "    else:\n",
    "        print(\"Incorrect\")\n",
    "        return \"continue\"\n",
    "    \n",
    "    "
   ]
  },
  {
   "cell_type": "code",
   "execution_count": 162,
   "id": "9bb93e36",
   "metadata": {},
   "outputs": [],
   "source": [
    "graph = StateGraph(AgentState)\n",
    "graph.add_node(node=\"setup\", action=setup)\n",
    "graph.add_node(node=\"guess_node\", action=guess_node)\n",
    "\n",
    "graph.add_edge(start_key=START, end_key=\"setup\")\n",
    "graph.add_edge(start_key=\"setup\", end_key=\"guess_node\")\n",
    "\n",
    "graph.add_conditional_edges(\n",
    "    source=\"guess_node\",\n",
    "    path=hint_router,\n",
    "    path_map={\n",
    "        \"continue\": \"guess_node\",\n",
    "        \"exit\": END\n",
    "    }\n",
    ")\n",
    "app = graph.compile()"
   ]
  },
  {
   "cell_type": "code",
   "execution_count": 163,
   "id": "24bc06be",
   "metadata": {},
   "outputs": [
    {
     "data": {
      "image/png": "[encoded data removed]",
      "text/plain": [
       "<IPython.core.display.Image object>"
      ]
     },
     "metadata": {},
     "output_type": "display_data"
    }
   ],
   "source": [
    "from IPython.display import Image, display\n",
    "display(Image(app.get_graph().draw_mermaid_png()))"
   ]
  },
  {
   "cell_type": "code",
   "execution_count": 164,
   "id": "fb8fe057",
   "metadata": {},
   "outputs": [
    {
     "name": "stdout",
     "output_type": "stream",
     "text": [
      "Number to guess:  8\n",
      "Welcome, Student! The game has begun. I'm thinking of a number between 1 and 20.\n",
      "Guessed number:  16 Attempts:  1 LowerBound:  0 UpperBound:  20\n",
      "Incorrect\n",
      "Guessed number:  -1 Attempts:  2 LowerBound:  -2 UpperBound:  18\n",
      "Incorrect\n",
      "Guessed number:  1 Attempts:  3 LowerBound:  -2 UpperBound:  18\n",
      "Incorrect\n",
      "Guessed number:  0 Attempts:  4 LowerBound:  -2 UpperBound:  18\n",
      "Incorrect\n",
      "Guessed number:  17 Attempts:  5 LowerBound:  -2 UpperBound:  18\n",
      "Incorrect\n",
      "Guessed number:  -1 Attempts:  6 LowerBound:  -2 UpperBound:  18\n",
      "Incorrect\n",
      "Guessed number:  8 Attempts:  7 LowerBound:  -2 UpperBound:  18\n",
      "Corrrect\n"
     ]
    },
    {
     "data": {
      "text/plain": [
       "{'guess': 8,\n",
       " 'player_name': \"Welcome, Student! The game has begun. I'm thinking of a number between 1 and 20.\",\n",
       " 'lower_bound': -2,\n",
       " 'upper_bound': 18,\n",
       " 'attempts': 7,\n",
       " 'is_guessed': 1}"
      ]
     },
     "execution_count": 164,
     "metadata": {},
     "output_type": "execute_result"
    }
   ],
   "source": [
    "answer = app.invoke({\n",
    "    \"guess\": random.randint(1, 20),\n",
    "    \"player_name\": \"Student\",\n",
    "    \"attempts\": 0,\n",
    "    \"lower_bound\": 0,\n",
    "    \"upper_bound\": 20\n",
    "})\n",
    "answer"
   ]
  }
 ],
 "metadata": {
  "kernelspec": {
   "display_name": "Python 3",
   "language": "python",
   "name": "python3"
  },
  "language_info": {
   "codemirror_mode": {
    "name": "ipython",
    "version": 3
   },
   "file_extension": ".py",
   "mimetype": "text/x-python",
   "name": "python",
   "nbconvert_exporter": "python",
   "pygments_lexer": "ipython3",
   "version": "3.13.3"
  }
 },
 "nbformat": 4,
 "nbformat_minor": 5
}

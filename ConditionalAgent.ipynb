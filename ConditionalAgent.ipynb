{
 "cells": [
  {
   "cell_type": "code",
   "execution_count": 73,
   "id": "554227da",
   "metadata": {},
   "outputs": [],
   "source": [
    "from typing import TypedDict, List, Optional\n",
    "from langgraph.graph import StateGraph, START, END\n",
    "from IPython.display import Image, display"
   ]
  },
  {
   "cell_type": "code",
   "execution_count": 74,
   "id": "088c229b",
   "metadata": {},
   "outputs": [],
   "source": [
    "class AgentState(TypedDict):\n",
    "    number1: int\n",
    "    number2: int\n",
    "    operation: str\n",
    "    final: int"
   ]
  },
  {
   "cell_type": "code",
   "execution_count": 75,
   "id": "606f33d7",
   "metadata": {},
   "outputs": [],
   "source": [
    "def adder(state: AgentState) -> AgentState:\n",
    "    \"\"\" This state agent adds 2 numbers \"\"\"\n",
    "\n",
    "    state['final'] = state['number1'] + state['number2']\n",
    "    return state\n",
    "\n",
    "def subtractor(state: AgentState) -> AgentState:\n",
    "    \"\"\" This state agent subtracts 2 numbers \"\"\"\n",
    "\n",
    "    state['final'] = state['number1'] - state['number2']\n",
    "    return state\n",
    "\n",
    "def decide_next_node(state: AgentState) -> Optional[str]:\n",
    "    \"\"\" This node decides the next node of the graph \"\"\"\n",
    "    if state['operation'] == \"+\":\n",
    "        return \"addition_node\"\n",
    "    elif state['operation'] == \"-\":\n",
    "        return \"subtraction_node\""
   ]
  },
  {
   "cell_type": "code",
   "execution_count": 76,
   "id": "407dc2f2",
   "metadata": {},
   "outputs": [],
   "source": [
    "graph = StateGraph(AgentState)\n",
    "graph.add_node(node=\"add_node\", action=adder)\n",
    "graph.add_node(node=\"subtract_node\", action=subtractor)\n",
    "graph.add_node(node=\"router\", action=lambda state: state)\n",
    "\n",
    "graph.add_edge(start_key=START, end_key=\"router\")\n",
    "graph.add_edge(start_key=\"add_node\", end_key=END)\n",
    "graph.add_edge(start_key=\"subtract_node\", end_key=END)\n",
    "\n",
    "graph.add_conditional_edges(\n",
    "    source=\"router\",\n",
    "    path=decide_next_node,\n",
    "    path_map= {\n",
    "        \"addition_node\": \"add_node\",\n",
    "        \"subtraction_node\": \"subtract_node\"\n",
    "    }\n",
    ")\n",
    "app = graph.compile()"
   ]
  },
  {
   "cell_type": "code",
   "execution_count": 77,
   "id": "6f203848",
   "metadata": {},
   "outputs": [
    {
     "data": {
      "image/png": "[encoded data removed]",
      "text/plain": [
       "<IPython.core.display.Image object>"
      ]
     },
     "metadata": {},
     "output_type": "display_data"
    }
   ],
   "source": [
    "from IPython.display import Image, display\n",
    "display(Image(app.get_graph().draw_mermaid_png()))\n"
   ]
  },
  {
   "cell_type": "code",
   "execution_count": 78,
   "id": "efcd1ea2",
   "metadata": {},
   "outputs": [
    {
     "data": {
      "text/plain": [
       "{'number1': 10, 'number2': 9, 'operation': '+', 'final': 19}"
      ]
     },
     "execution_count": 78,
     "metadata": {},
     "output_type": "execute_result"
    }
   ],
   "source": [
    "initial_state = AgentState(number1 = 10, number2 = 9, operation = \"+\") #type: ignore\n",
    "app.invoke(input=initial_state)"
   ]
  },
  {
   "cell_type": "code",
   "execution_count": 79,
   "id": "cfaeb62d",
   "metadata": {},
   "outputs": [
    {
     "data": {
      "text/plain": [
       "{'number1': 10, 'number2': 5, 'operation': '+', 'final': 15}"
      ]
     },
     "execution_count": 79,
     "metadata": {},
     "output_type": "execute_result"
    }
   ],
   "source": [
    "answer = app.invoke({\n",
    "    \"number1\": 10,\n",
    "    \"number2\": 5,\n",
    "    \"operation\": \"+\"\n",
    "})\n",
    "answer"
   ]
  }
 ],
 "metadata": {
  "kernelspec": {
   "display_name": "Python 3",
   "language": "python",
   "name": "python3"
  },
  "language_info": {
   "codemirror_mode": {
    "name": "ipython",
    "version": 3
   },
   "file_extension": ".py",
   "mimetype": "text/x-python",
   "name": "python",
   "nbconvert_exporter": "python",
   "pygments_lexer": "ipython3",
   "version": "3.13.3"
  }
 },
 "nbformat": 4,
 "nbformat_minor": 5
}

{
 "cells": [
  {
   "cell_type": "markdown",
   "id": "263c87b9",
   "metadata": {},
   "source": [
    "Operate the values in the list based on the operator condition"
   ]
  },
  {
   "cell_type": "code",
   "execution_count": 31,
   "id": "d3edf0bc",
   "metadata": {},
   "outputs": [],
   "source": [
    "from typing import TypedDict, List\n",
    "from langgraph.graph import StateGraph\n",
    "import numpy as np"
   ]
  },
  {
   "cell_type": "code",
   "execution_count": 32,
   "id": "8b6a050d",
   "metadata": {},
   "outputs": [],
   "source": [
    "class AgentState(TypedDict):\n",
    "    name: str\n",
    "    values: List[int]\n",
    "    operation: str\n",
    "    result: str"
   ]
  },
  {
   "cell_type": "code",
   "execution_count": 33,
   "id": "6da49e3d",
   "metadata": {},
   "outputs": [],
   "source": [
    "def operator(state: AgentState) -> AgentState:\n",
    "    \"\"\" Operator to operate the list of values based on the operation condition \"\"\"\n",
    "    print(state)\n",
    "    if state[\"operation\"] == \"*\":\n",
    "        ans = np.prod(state[\"values\"])\n",
    "    else:\n",
    "        ans = np.sum(state[\"values\"])\n",
    "    state[\"result\"] = f\"Hi {state[\"name\"]}, your answer is {ans}\"\n",
    "    print(state)\n",
    "\n",
    "    return state"
   ]
  },
  {
   "cell_type": "code",
   "execution_count": 34,
   "id": "cf414b81",
   "metadata": {},
   "outputs": [],
   "source": [
    "graph = StateGraph(AgentState)\n",
    "graph.add_node(node=\"operate\", action=operator)\n",
    "graph.set_entry_point(key=\"operate\")\n",
    "graph.set_finish_point(key=\"operate\")\n",
    "app = graph.compile()"
   ]
  },
  {
   "cell_type": "code",
   "execution_count": 35,
   "id": "cd832c0c",
   "metadata": {},
   "outputs": [
    {
     "data": {
      "image/png": "[encoded data removed]",
      "text/plain": [
       "<IPython.core.display.Image object>"
      ]
     },
     "metadata": {},
     "output_type": "display_data"
    }
   ],
   "source": [
    "from IPython.display import Image, display\n",
    "display(Image(app.get_graph().draw_mermaid_png()))"
   ]
  },
  {
   "cell_type": "code",
   "execution_count": 38,
   "id": "8338fe17",
   "metadata": {},
   "outputs": [
    {
     "name": "stdout",
     "output_type": "stream",
     "text": [
      "{'name': 'Jack Sparrow', 'values': [1, 2, 3, 4, 5], 'operation': '*'}\n",
      "{'name': 'Jack Sparrow', 'values': [1, 2, 3, 4, 5], 'operation': '*', 'result': 'Hi Jack Sparrow, your answer is 120'}\n"
     ]
    },
    {
     "data": {
      "text/plain": [
       "'Hi Jack Sparrow, your answer is 120'"
      ]
     },
     "execution_count": 38,
     "metadata": {},
     "output_type": "execute_result"
    }
   ],
   "source": [
    "answer = app.invoke({\n",
    "    \"name\": \"Jack Sparrow\",\n",
    "    \"values\": [1,2,3,4,5],\n",
    "    \"operation\": \"*\"\n",
    "})\n",
    "answer[\"result\"]"
   ]
  }
 ],
 "metadata": {
  "kernelspec": {
   "display_name": "Python 3",
   "language": "python",
   "name": "python3"
  },
  "language_info": {
   "codemirror_mode": {
    "name": "ipython",
    "version": 3
   },
   "file_extension": ".py",
   "mimetype": "text/x-python",
   "name": "python",
   "nbconvert_exporter": "python",
   "pygments_lexer": "ipython3",
   "version": "3.13.3"
  }
 },
 "nbformat": 4,
 "nbformat_minor": 5
}
